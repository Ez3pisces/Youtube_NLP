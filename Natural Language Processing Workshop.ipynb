{
 "cells": [
  {
   "cell_type": "code",
   "execution_count": 757,
   "id": "60a65de7",
   "metadata": {},
   "outputs": [
    {
     "name": "stderr",
     "output_type": "stream",
     "text": [
      "[nltk_data] Downloading package stopwords to\n",
      "[nltk_data]     C:\\Users\\Ezzard\\AppData\\Roaming\\nltk_data...\n",
      "[nltk_data]   Package stopwords is already up-to-date!\n",
      "[nltk_data] Downloading package wordnet to\n",
      "[nltk_data]     C:\\Users\\Ezzard\\AppData\\Roaming\\nltk_data...\n",
      "[nltk_data]   Package wordnet is already up-to-date!\n"
     ]
    }
   ],
   "source": [
    "#import Libraries \n",
    "import pandas as pd\n",
    "\n",
    "import seaborn as sns\n",
    "from collections import  Counter\n",
    "from sklearn.feature_extraction.text import CountVectorizer\n",
    "import numpy as np\n",
    "import nltk\n",
    "from PIL import Image\n",
    "from nltk.corpus import stopwords\n",
    "nltk.download('stopwords')\n",
    "nltk.download('wordnet')\n",
    "from nltk.tokenize import word_tokenize \n",
    "lemmatizer = nltk.WordNetLemmatizer()\n",
    "w_tokenizer = nltk.tokenize.WhitespaceTokenizer()\n",
    "from nltk.util import ngrams\n",
    "from textblob import TextBlob\n",
    "import matplotlib.pyplot as plt\n",
    "from nltk.sentiment.vader import SentimentIntensityAnalyzer\n",
    "\n",
    "\n",
    "\n"
   ]
  },
  {
   "cell_type": "code",
   "execution_count": 758,
   "id": "f3115660",
   "metadata": {},
   "outputs": [],
   "source": [
    "#get data form cvs files and convert into a \n",
    "nbc = \"nbc_first_pres_debate.csv\"\n",
    "fox = \"foxnews_first_pres_debate.csv\"\n",
    "cspan = \"cspan_first_pres_debate.csv\"\n"
   ]
  },
  {
   "cell_type": "code",
   "execution_count": 759,
   "id": "cde0ff47",
   "metadata": {},
   "outputs": [],
   "source": [
    "#convert the csv files into data frames\n",
    "def clean_data(csv_file):\n",
    "    data = pd.read_csv(csv_file)\n",
    "    data_comments = data['original_comment']\n",
    "    data= data_comments.to_frame()\n",
    "    data['original_comment'] = data['original_comment']. apply(lambda x: x.lower())\n",
    "    tokenized_doc = data['original_comment'].apply(lambda x: x.split())\n",
    "    tokenized_doc = tokenized_doc.apply(lambda x: [item for item in x if item not in stop_words])\n",
    "    tokenized_doc = tokenized_doc.apply(lambda x: [item for item in x if item not in stop_words])\n",
    "    tokenized_doc = tokenized_doc.apply(lambda x: lemmatize(x))\n",
    "    detokenized_doc = tokenized_doc.apply(lambda x: ' '.join(x))\n",
    "    data['original_comment'] = detokenized_doc\n",
    "    \n",
    "    \n",
    "    return data\n"
   ]
  },
  {
   "cell_type": "code",
   "execution_count": 760,
   "id": "e4e2d306",
   "metadata": {},
   "outputs": [],
   "source": [
    "nbc_data = clean_data(nbc)\n",
    "fox_data = clean_data(fox)\n",
    "cspan_data = clean_data(cspan)\n"
   ]
  },
  {
   "cell_type": "markdown",
   "id": "f6b9a5fa",
   "metadata": {},
   "source": [
    "# Exploratory Data Analysis\n",
    "suppose we want to know which words dominated each comment section\n",
    "how do we do this? We create a corpus which gets rid of the lines and just compiles all of the words in the entire comment section. Then from there we can visualize which words were presented the most in each comment section \n"
   ]
  },
  {
   "cell_type": "code",
   "execution_count": 761,
   "id": "1e932ab1",
   "metadata": {},
   "outputs": [],
   "source": [
    "def create_corpus(dframe):\n",
    "    corpus=[]\n",
    "    new= dframe['original_comment'].str.split()\n",
    "    new=new.values.tolist()\n",
    "    corpus=[word for i in new for word in i]\n",
    "    return corpus"
   ]
  },
  {
   "cell_type": "code",
   "execution_count": 762,
   "id": "af914327",
   "metadata": {},
   "outputs": [],
   "source": [
    "nbc_corpus = create_corpus(nbc_data)\n",
    "cspan_corpus = create_corpus(cspan_data)\n",
    "fox_corpus = create_corpus(fox_data)\n"
   ]
  },
  {
   "cell_type": "code",
   "execution_count": 763,
   "id": "73af138a",
   "metadata": {},
   "outputs": [
    {
     "data": {
      "text/plain": [
       "['trump',\n",
       " 'remembered',\n",
       " 'one',\n",
       " 'term',\n",
       " 'loser',\n",
       " 'impeached',\n",
       " 'twice',\n",
       " \"who's\",\n",
       " 'inauguration',\n",
       " '2:9:00',\n",
       " 'trump',\n",
       " 'condemn',\n",
       " 'white',\n",
       " 'supremacist',\n",
       " 'need',\n",
       " 'mad',\n",
       " 'bodyguard',\n",
       " 'country',\n",
       " 'cave',\n",
       " 'self',\n",
       " 'go',\n",
       " 'inner',\n",
       " 'city',\n",
       " 'send',\n",
       " 'kamalah',\n",
       " 'safer',\n",
       " 'don’t',\n",
       " 'let',\n",
       " 'joe',\n",
       " 'biden',\n",
       " 'go',\n",
       " 'inner',\n",
       " 'city',\n",
       " 'hahah',\n",
       " 'ridiculous',\n",
       " 'omg',\n",
       " 'lies!',\n",
       " 'biden',\n",
       " 'prison',\n",
       " 'it’s',\n",
       " 'proven',\n",
       " 'anything',\n",
       " 'presidential',\n",
       " 'vote',\n",
       " 'rigging.',\n",
       " 'https://www.bing.com/videos/search?q=italydidit&view=detail&mid=dfe094c19a6936660f84dfe094c19a6936660f84&form=vire',\n",
       " '1:24:58',\n",
       " 'he’s',\n",
       " 'narcissistic',\n",
       " 'conceited,',\n",
       " 'thought',\n",
       " 'closing',\n",
       " 'border',\n",
       " 'china',\n",
       " 'giant',\n",
       " 'step,',\n",
       " 'new',\n",
       " 'zealand',\n",
       " 'australia',\n",
       " 'closed',\n",
       " 'border',\n",
       " 'whole',\n",
       " 'world',\n",
       " 'covid19',\n",
       " 'started',\n",
       " 'spiraling',\n",
       " 'control',\n",
       " 'clown',\n",
       " 'believe',\n",
       " 'word',\n",
       " 'come',\n",
       " \"donald's\",\n",
       " 'lip',\n",
       " 'по',\n",
       " 'любому',\n",
       " 'победа',\n",
       " 'буде',\n",
       " 'за',\n",
       " 'трампа!весь',\n",
       " 'мир',\n",
       " 'с',\n",
       " 'трампом!',\n",
       " 'courageous',\n",
       " 'note',\n",
       " 'subsequently',\n",
       " 'serve',\n",
       " 'pancake',\n",
       " 'comparatively',\n",
       " 'phone',\n",
       " 'sleepy',\n",
       " 'straw.',\n",
       " 'merciful,',\n",
       " 'brawny',\n",
       " 'weather',\n",
       " 'alcoholic',\n",
       " 'laura',\n",
       " 'jekely',\n",
       " 'transport',\n",
       " 'blouse',\n",
       " 'clinically',\n",
       " 'juggle',\n",
       " 'tawdry',\n",
       " 'hurricane.',\n",
       " 'joyous,',\n",
       " 'ignorant',\n",
       " 'idea',\n",
       " 'trump',\n",
       " 'nazi',\n",
       " 'trying',\n",
       " 'hitler',\n",
       " 'let',\n",
       " 'side',\n",
       " 'talk',\n",
       " 'like',\n",
       " 'true',\n",
       " 'fascist.',\n",
       " 'propose',\n",
       " 'republican',\n",
       " 'taken',\n",
       " 'socialist',\n",
       " 'medical',\n",
       " 'system',\n",
       " 'let',\n",
       " 'buy',\n",
       " 'insurance.',\n",
       " 'give',\n",
       " 'every',\n",
       " 'dem',\n",
       " 'want',\n",
       " 'universal',\n",
       " 'health',\n",
       " 'care.',\n",
       " 'republican',\n",
       " 'want',\n",
       " 'universal',\n",
       " 'vote',\n",
       " 'socialist',\n",
       " 'dems.',\n",
       " 'prove',\n",
       " 'liar',\n",
       " 'evil',\n",
       " 'republicans.',\n",
       " 'reporting',\n",
       " 'awful',\n",
       " 'manipulative.',\n",
       " 'come',\n",
       " 'one',\n",
       " 'talk',\n",
       " 'ivermectin',\n",
       " 'curing',\n",
       " 'preventing',\n",
       " 'sars',\n",
       " 'since',\n",
       " '2014',\n",
       " 'cv-19',\n",
       " 'since',\n",
       " 'august',\n",
       " '2020',\n",
       " 'dr',\n",
       " 'kory',\n",
       " 'fantastic.',\n",
       " 'superb.',\n",
       " 'trump',\n",
       " 'embarrassment,',\n",
       " 'he’s',\n",
       " 'joke',\n",
       " 'trump',\n",
       " '2020!we',\n",
       " 'love',\n",
       " 'forever!he',\n",
       " 'great',\n",
       " 'president',\n",
       " 'around',\n",
       " 'world💖🌟🌻🍀👏👏💫👍👍👍https://youtu.be/5snzixxzmqc',\n",
       " 'almost',\n",
       " 'gave',\n",
       " 'ever',\n",
       " 'getting',\n",
       " 'cured',\n",
       " 'herpes',\n",
       " 'virus',\n",
       " 'try',\n",
       " 'many',\n",
       " 'treatment',\n",
       " 'none',\n",
       " 'work',\n",
       " 'go',\n",
       " 'different',\n",
       " 'hospital',\n",
       " 'always',\n",
       " 'tell',\n",
       " 'thing',\n",
       " 'cure',\n",
       " 'herpes',\n",
       " 'came',\n",
       " 'across',\n",
       " 'post',\n",
       " 'dr',\n",
       " 'bali,',\n",
       " 'net',\n",
       " 'lady',\n",
       " 'called',\n",
       " '[carla',\n",
       " 'houston]',\n",
       " 'decided',\n",
       " 'give',\n",
       " 'try',\n",
       " 'contacted',\n",
       " 'inspired',\n",
       " 'gave',\n",
       " 'hope',\n",
       " 'living',\n",
       " 'happy',\n",
       " 'life',\n",
       " 'and.',\n",
       " 'doubted',\n",
       " 'first',\n",
       " 'whole',\n",
       " 'lot',\n",
       " 'reputable',\n",
       " 'doctors,',\n",
       " 'tried',\n",
       " 'lot',\n",
       " 'medicine',\n",
       " 'none',\n",
       " 'able',\n",
       " 'cure',\n",
       " 'me.',\n",
       " 'decided',\n",
       " 'listen',\n",
       " 'commenced',\n",
       " 'treatment,',\n",
       " '14days',\n",
       " 'totally',\n",
       " 'free',\n",
       " 'herpes',\n",
       " 'virus,',\n",
       " 'want',\n",
       " 'say',\n",
       " 'big',\n",
       " 'thank',\n",
       " 'dr',\n",
       " 'bali',\n",
       " 'done',\n",
       " 'life.',\n",
       " 'visit',\n",
       " 'website;https://drbalisolutioncenter.jimdofree.com/',\n",
       " 'email',\n",
       " 'drbalihome@gmail.com',\n",
       " 'also',\n",
       " 'whatsapp',\n",
       " '+2348120933032',\n",
       " 'able',\n",
       " 'help',\n",
       " 'herb',\n",
       " 'medicine,',\n",
       " 'herpes',\n",
       " 'virus',\n",
       " 'al',\n",
       " 'curediabetes',\n",
       " 'cureepilesy',\n",
       " 'curehpv',\n",
       " 'curehiv/aidshepatitis',\n",
       " 'curediabetescancer',\n",
       " 'cure.',\n",
       " 'e.t.c',\n",
       " '..',\n",
       " '...',\n",
       " 'u',\n",
       " 'korea,',\n",
       " 'democratic',\n",
       " 'party',\n",
       " '=',\n",
       " 'electoral',\n",
       " 'fraud',\n",
       " 'party',\n",
       " 'world',\n",
       " 'laughing',\n",
       " 'trump',\n",
       " '😂',\n",
       " 'hey',\n",
       " 'trump!',\n",
       " 'stop',\n",
       " 'insanity',\n",
       " '😂😂😂',\n",
       " 'shame',\n",
       " 'trump',\n",
       " '😁😁😁',\n",
       " 'look',\n",
       " 'example.',\n",
       " 'bunkerbaby😖',\n",
       " 'https://youtu.be/g2ch1ocowea',\n",
       " '[jan',\n",
       " '6,',\n",
       " '2021]',\n",
       " '\\\\\\\\\\\\\\\\',\n",
       " 'time',\n",
       " 'avoid',\n",
       " 'going',\n",
       " 'ur',\n",
       " 'biblical',\n",
       " '12',\n",
       " 'tribe',\n",
       " 'fate',\n",
       " 'door,',\n",
       " 'time',\n",
       " 'abolish',\n",
       " '50',\n",
       " 'different',\n",
       " \"states'-laws,\",\n",
       " '50-supreme-courts,',\n",
       " '50-electoral-dividing-rules;',\n",
       " 'time',\n",
       " 'go',\n",
       " '\"united',\n",
       " 'america\",',\n",
       " '\"one',\n",
       " 'state',\n",
       " 'god\",',\n",
       " 'one',\n",
       " 'law,',\n",
       " 'majority',\n",
       " 'votes,',\n",
       " 'one',\n",
       " 'national',\n",
       " 'election',\n",
       " '////',\n",
       " 'enough',\n",
       " 'said.////',\n",
       " 'wallace:',\n",
       " 'start',\n",
       " 'segment',\n",
       " 'mr',\n",
       " 'president.',\n",
       " 'biden:',\n",
       " '*listens',\n",
       " 'in*',\n",
       " 'trump:',\n",
       " 'built',\n",
       " 'greatest',\n",
       " 'econom-',\n",
       " 'biden:',\n",
       " '*awkward',\n",
       " 'smiling*',\n",
       " 'trump:',\n",
       " 'biden:',\n",
       " '*huh',\n",
       " 'face*',\n",
       " 'kindly',\n",
       " 'galley',\n",
       " 'nationally',\n",
       " 'stroke',\n",
       " 'recorder',\n",
       " 'naively',\n",
       " 'match',\n",
       " 'modulo',\n",
       " 'noisy',\n",
       " 'beard.',\n",
       " 'stormy,',\n",
       " 'protective',\n",
       " 'gosling',\n",
       " 'lot',\n",
       " 'time',\n",
       " 'lot',\n",
       " 'time',\n",
       " 'complaining',\n",
       " 'lost',\n",
       " '😂',\n",
       " 'trump',\n",
       " 'coming',\n",
       " 'back',\n",
       " '?',\n",
       " 'likely',\n",
       " \"'another\",\n",
       " 'trump',\n",
       " \"like'\",\n",
       " 'leader',\n",
       " 'likely',\n",
       " 'happen,',\n",
       " '?',\n",
       " 'u',\n",
       " 'vote',\n",
       " 'winner,',\n",
       " 'loser.',\n",
       " 'u',\n",
       " 'need',\n",
       " 'another',\n",
       " 'reckoning.',\n",
       " 'trump',\n",
       " 'loser',\n",
       " '?',\n",
       " '(1)',\n",
       " 'trump',\n",
       " 'failed',\n",
       " 'prevent',\n",
       " 'voting',\n",
       " 'fraud',\n",
       " 'administration,',\n",
       " 'able',\n",
       " \"'catch'\",\n",
       " 'record',\n",
       " 'single',\n",
       " 'solid',\n",
       " 'evidence.',\n",
       " 'trump',\n",
       " 'loser',\n",
       " '?',\n",
       " '(2)',\n",
       " 'trump',\n",
       " 'failed',\n",
       " 'prove',\n",
       " 'voting',\n",
       " 'fraud',\n",
       " \"'so\",\n",
       " 'many',\n",
       " 'clamed',\n",
       " \"evidences',\",\n",
       " 'single',\n",
       " 'winning',\n",
       " 'case',\n",
       " 'way',\n",
       " 'supreme',\n",
       " 'court.',\n",
       " 'trump',\n",
       " 'liar',\n",
       " 'loser',\n",
       " '?',\n",
       " '(3)',\n",
       " 'trump',\n",
       " 'said',\n",
       " \"'will\",\n",
       " 'agree',\n",
       " 'supreme',\n",
       " 'court',\n",
       " 'ruling',\n",
       " 'election',\n",
       " \"outcome'\",\n",
       " 'yet',\n",
       " 'still',\n",
       " 'fighting',\n",
       " 'afterward',\n",
       " 'lose',\n",
       " 'jan',\n",
       " '6th',\n",
       " 'leave',\n",
       " 'white',\n",
       " 'house',\n",
       " 'loser.',\n",
       " '@tony',\n",
       " 'ko',\n",
       " 'yes',\n",
       " 'understand.',\n",
       " 'i’m',\n",
       " 'anti-trump.',\n",
       " '@jason',\n",
       " 'andolina',\n",
       " 'trump',\n",
       " 'gang',\n",
       " 'done',\n",
       " 'jan.',\n",
       " '6th',\n",
       " '2021.',\n",
       " 'watch',\n",
       " 'show.',\n",
       " 'winner',\n",
       " 'take',\n",
       " 'game,',\n",
       " '2nd',\n",
       " 'best',\n",
       " 'loser.',\n",
       " 'lost',\n",
       " 'biden',\n",
       " 'great',\n",
       " 'anti-trump',\n",
       " 'bigger.',\n",
       " '2nd',\n",
       " 'civil',\n",
       " 'war',\n",
       " 'u',\n",
       " 'history.',\n",
       " 'first',\n",
       " 'one',\n",
       " 'fought',\n",
       " 'president',\n",
       " 'lincoln,',\n",
       " '1860s.',\n",
       " 'said',\n",
       " 'would',\n",
       " 'run',\n",
       " 'road,',\n",
       " 'wouldn’t',\n",
       " 'able',\n",
       " 'come',\n",
       " 'impeachment.',\n",
       " '(1)',\n",
       " 'time',\n",
       " 'marked',\n",
       " '17:42',\n",
       " 'british',\n",
       " 'scholar',\n",
       " 'speaking',\n",
       " '\"anti-china',\n",
       " 'cov-19',\n",
       " 'populism\"',\n",
       " 'u',\n",
       " 'western',\n",
       " 'world',\n",
       " 'including',\n",
       " 'england',\n",
       " '[',\n",
       " 'https://youtu.be/psyy4kqekta?t=1062',\n",
       " ']',\n",
       " 'whole',\n",
       " 'report',\n",
       " 'give',\n",
       " 'beginning',\n",
       " '!',\n",
       " '(2)',\n",
       " 'american',\n",
       " 'spoke',\n",
       " 'anti-china',\n",
       " 'populism',\n",
       " '[',\n",
       " 'https://youtu.be/ve4cwf458k4?t=1',\n",
       " ']',\n",
       " '(with',\n",
       " 'many',\n",
       " 'inside',\n",
       " 'into.)',\n",
       " 'two',\n",
       " 'key',\n",
       " 'different',\n",
       " 'belief',\n",
       " 'play',\n",
       " ':',\n",
       " 'china',\n",
       " 'v',\n",
       " 'west',\n",
       " 'us,',\n",
       " 'majoritism',\n",
       " '\"survival',\n",
       " 'friendliest\"',\n",
       " 'v',\n",
       " 'heroism',\n",
       " '\"survival',\n",
       " 'fittest\"',\n",
       " '(1)',\n",
       " 'majoritism',\n",
       " '(since',\n",
       " 'qin',\n",
       " 'unified',\n",
       " 'china,',\n",
       " 'ended',\n",
       " '250',\n",
       " 'year',\n",
       " 'seven-waring-states',\n",
       " '(475',\n",
       " 'bc',\n",
       " '-',\n",
       " '221',\n",
       " 'bc)[',\n",
       " 'https://en.wikipedia.org/wiki/seven_warring_states',\n",
       " '],',\n",
       " 'majority',\n",
       " 'people',\n",
       " 'finally',\n",
       " 'live',\n",
       " 'peace,',\n",
       " 'start',\n",
       " 'majoritism)',\n",
       " 'general',\n",
       " 'majority',\n",
       " 'well',\n",
       " 'superseded',\n",
       " 'ism',\n",
       " 'political',\n",
       " 'systems.',\n",
       " 'majoritism',\n",
       " 'demand',\n",
       " 'hold',\n",
       " 'leadership',\n",
       " 'responsible',\n",
       " 'address',\n",
       " 'internal',\n",
       " 'poor',\n",
       " 'bottom',\n",
       " 'majority',\n",
       " 'needs,',\n",
       " 'eliminating',\n",
       " 'suffering,',\n",
       " 'health',\n",
       " 'care',\n",
       " 'all,',\n",
       " 'including',\n",
       " 'weak',\n",
       " 'elderly,',\n",
       " 'outward',\n",
       " 'peace',\n",
       " 'countries,',\n",
       " 'fair',\n",
       " 'co-exist,',\n",
       " 'cooperation',\n",
       " 'equality',\n",
       " 'mutual',\n",
       " 'benefit,',\n",
       " 'without',\n",
       " 'exploitation',\n",
       " 'drastically',\n",
       " 'differ',\n",
       " 'now,',\n",
       " 'heroism',\n",
       " 'era.',\n",
       " '(2)',\n",
       " 'heroism',\n",
       " '(since',\n",
       " 'western',\n",
       " 'industrial',\n",
       " 'revolution)',\n",
       " 'lead',\n",
       " '\"winner',\n",
       " 'take',\n",
       " 'all\"',\n",
       " '\"survival',\n",
       " 'fittest\".',\n",
       " 'super',\n",
       " 'rich',\n",
       " 'military',\n",
       " 'industrial',\n",
       " 'complex',\n",
       " 'special',\n",
       " 'interest',\n",
       " 'entity',\n",
       " 'rising',\n",
       " 'resulting',\n",
       " 'exploitation,',\n",
       " 'internal,',\n",
       " 'lead',\n",
       " 'rich',\n",
       " 'poor',\n",
       " 'unbalanced,',\n",
       " 'and,',\n",
       " 'outward,',\n",
       " 'lead',\n",
       " 'unfair',\n",
       " 'double',\n",
       " 'standards,',\n",
       " 'exploitation.',\n",
       " \"us'\",\n",
       " '\"winner',\n",
       " 'take',\n",
       " 'all\"',\n",
       " 'race,',\n",
       " 'military,',\n",
       " 'economy,',\n",
       " 'country',\n",
       " 'dominating',\n",
       " 'world',\n",
       " 'end',\n",
       " 'cold',\n",
       " 'war',\n",
       " \"'anything\",\n",
       " 'better',\n",
       " \"us'\",\n",
       " 'evil',\n",
       " \"'must\",\n",
       " \"cheating'\",\n",
       " 'populism.',\n",
       " 'trump',\n",
       " 'lost',\n",
       " '2020',\n",
       " 'election',\n",
       " 'continue',\n",
       " 'blaming',\n",
       " 'voting',\n",
       " 'fraud',\n",
       " 'perfect',\n",
       " 'example',\n",
       " 'heroism',\n",
       " 'wrong',\n",
       " 'anyone',\n",
       " 'better',\n",
       " 'must',\n",
       " 'faking',\n",
       " 'cheating.',\n",
       " 'true',\n",
       " \"'self\",\n",
       " \"correction'\",\n",
       " 'happen',\n",
       " 'one',\n",
       " 'admit',\n",
       " 'self',\n",
       " 'fault',\n",
       " 'u',\n",
       " 'going',\n",
       " 'hard',\n",
       " 'super',\n",
       " 'rich',\n",
       " 'threaten',\n",
       " 'leave',\n",
       " 'u',\n",
       " 'anyone',\n",
       " 'dare',\n",
       " 'expose',\n",
       " 'them.',\n",
       " 'heroism',\n",
       " 'anti-xxx-populism',\n",
       " 'going',\n",
       " 'continue',\n",
       " 'near',\n",
       " 'future',\n",
       " 'even',\n",
       " 'people',\n",
       " 'beginning',\n",
       " 'see',\n",
       " 'dead',\n",
       " 'end',\n",
       " 'ism.',\n",
       " 'darwin',\n",
       " 'mistaken',\n",
       " '???',\n",
       " 'https://scitechdaily.com/darwin-contradicted-survival-of-the-friendliest-bacteria/',\n",
       " 'lab',\n",
       " 'test',\n",
       " 'put',\n",
       " 'serious',\n",
       " 'question',\n",
       " 'challenge',\n",
       " 'heroism',\n",
       " '(',\n",
       " 'survival',\n",
       " 'fittest',\n",
       " 'darwinism',\n",
       " 'https://www.britannica.com/science/survival-of-the-fittest',\n",
       " ')',\n",
       " 'busy',\n",
       " 'pastor',\n",
       " 'similarly',\n",
       " 'dress',\n",
       " 'ambulance',\n",
       " 'hisologically',\n",
       " 'deliver',\n",
       " 'sans',\n",
       " 'lopsided',\n",
       " 'helicopter.',\n",
       " 'toothsome,',\n",
       " 'guarded',\n",
       " 'forest',\n",
       " 'worst',\n",
       " 'president',\n",
       " 'ever...',\n",
       " \"who's\",\n",
       " 'watching',\n",
       " '2021?',\n",
       " 'jock,',\n",
       " 'debate',\n",
       " 'fixed',\n",
       " 'election!',\n",
       " 'suppose',\n",
       " 'make',\n",
       " 'biden',\n",
       " 'younger,',\n",
       " 'mentally',\n",
       " 'fit',\n",
       " 'president,',\n",
       " 'clean',\n",
       " \"biden's\",\n",
       " 'family',\n",
       " 'crimes?',\n",
       " 'hahahahaha',\n",
       " 'really',\n",
       " 'two',\n",
       " 'best',\n",
       " 'people',\n",
       " 'come',\n",
       " 'lead',\n",
       " 'country?',\n",
       " 'well',\n",
       " '2016',\n",
       " 'clinton',\n",
       " 'trump',\n",
       " 'really',\n",
       " 'good',\n",
       " 'choice',\n",
       " 'time',\n",
       " '2020',\n",
       " 'biden',\n",
       " 'trump.',\n",
       " 'biden',\n",
       " 'opinion',\n",
       " 'lesser',\n",
       " 'two.',\n",
       " 'bird',\n",
       " 'freezing',\n",
       " 'mallet',\n",
       " 'pathologically',\n",
       " 'admire',\n",
       " 'database',\n",
       " 'complimentarily',\n",
       " 'examine',\n",
       " 'toward',\n",
       " 'staking',\n",
       " 'dime.',\n",
       " 'truthful,',\n",
       " 'false',\n",
       " 'familiar',\n",
       " 'famous',\n",
       " 'romanian',\n",
       " '!was',\n",
       " 'like',\n",
       " 'comedy',\n",
       " 'reality',\n",
       " 'show',\n",
       " \"i've\",\n",
       " 'rewatched',\n",
       " 'several',\n",
       " 'times,',\n",
       " 'mostly',\n",
       " 'laugh,',\n",
       " 'clear',\n",
       " 'trump',\n",
       " 'match',\n",
       " 'wits(he',\n",
       " 'kept',\n",
       " 'trying',\n",
       " 'failed',\n",
       " 'debate',\n",
       " 'paint',\n",
       " 'biden',\n",
       " '\"dumb,',\n",
       " 'unaware\"',\n",
       " 'candidate),',\n",
       " 'basically',\n",
       " 'tried',\n",
       " 'make',\n",
       " 'debate',\n",
       " 'solely',\n",
       " 'hunter',\n",
       " 'biden,',\n",
       " 'trump,',\n",
       " 'family',\n",
       " 'corrupt',\n",
       " 'billionaire',\n",
       " 'angel',\n",
       " 'themselves.',\n",
       " 'match',\n",
       " 'biden',\n",
       " 'policy',\n",
       " 'issue',\n",
       " 'either,',\n",
       " 'resorted',\n",
       " 'interruption',\n",
       " 'disrupt',\n",
       " 'flow',\n",
       " 'debate.',\n",
       " 'crap',\n",
       " 'work',\n",
       " 'dumb',\n",
       " 'trump',\n",
       " 'klan',\n",
       " 'members,',\n",
       " 'majority',\n",
       " 'country.',\n",
       " 'america',\n",
       " 'best',\n",
       " 'country,',\n",
       " 'joke!',\n",
       " 'post',\n",
       " '2020',\n",
       " 'christmas,',\n",
       " 'biden',\n",
       " 'president-elect,',\n",
       " 'trump',\n",
       " 'forgiven',\n",
       " '29',\n",
       " 'criminal',\n",
       " 'colleague',\n",
       " 'executive',\n",
       " 'pardon',\n",
       " 'abandoned',\n",
       " 'million',\n",
       " 'people',\n",
       " 'without',\n",
       " 'stimulus',\n",
       " 'fund',\n",
       " 'christmas!',\n",
       " 'trump',\n",
       " 'severely',\n",
       " 'divided',\n",
       " 'country',\n",
       " 'firing',\n",
       " 'encouraging',\n",
       " 'far-right',\n",
       " 'wing',\n",
       " 'supporter',\n",
       " 'go',\n",
       " 'control',\n",
       " 'let',\n",
       " 'loose',\n",
       " 'ugliness',\n",
       " 'towards',\n",
       " 'fellow',\n",
       " 'americans.',\n",
       " 'wonder',\n",
       " 'many',\n",
       " 'went',\n",
       " 'without',\n",
       " 'stimulus',\n",
       " 'fund',\n",
       " 'christmas',\n",
       " 'season.',\n",
       " \"trump's\",\n",
       " 'outrageous',\n",
       " 'behavior',\n",
       " 'legally',\n",
       " 'prevented',\n",
       " 'ever',\n",
       " 'happening',\n",
       " 'again!',\n",
       " 'kanye',\n",
       " 'west',\n",
       " '2020',\n",
       " 'joe',\n",
       " 'straight',\n",
       " '👌',\n",
       " 'want',\n",
       " 'appreciate',\n",
       " 'dr',\n",
       " 'godfather',\n",
       " 'restoration',\n",
       " 'marriage',\n",
       " 'spell',\n",
       " 'casting',\n",
       " '2years',\n",
       " 'separation',\n",
       " 'husband,',\n",
       " 'help',\n",
       " 'dr',\n",
       " 'godfather',\n",
       " 'spell',\n",
       " 'husband',\n",
       " 'return',\n",
       " 'home',\n",
       " 'happily',\n",
       " 'together',\n",
       " 'good,once',\n",
       " 'thanks',\n",
       " 'dr',\n",
       " 'godfather,',\n",
       " 'also',\n",
       " 'cure',\n",
       " 'kind',\n",
       " 'spell',\n",
       " 'casting',\n",
       " 'sickness',\n",
       " 'as:',\n",
       " '1',\n",
       " 'love',\n",
       " 'spell',\n",
       " '2',\n",
       " 'good',\n",
       " 'job',\n",
       " 'spell',\n",
       " '3',\n",
       " 'fruit',\n",
       " 'worn',\n",
       " '4',\n",
       " 'hiv',\n",
       " 'cure',\n",
       " '5',\n",
       " 'fibroid',\n",
       " 'cure',\n",
       " '6',\n",
       " 'herpes',\n",
       " 'cure',\n",
       " '7',\n",
       " 'diabetes',\n",
       " 'cure',\n",
       " '8',\n",
       " 'promotion',\n",
       " 'spell',\n",
       " '8',\n",
       " 'lotter',\n",
       " 'spell',\n",
       " 'contact',\n",
       " 'dr',\n",
       " 'godfather',\n",
       " 'help',\n",
       " 'whatsapp',\n",
       " '+2347062606817',\n",
       " 'email',\n",
       " 'drgodfatherspellcaster1@gmail.com',\n",
       " 'enchanted',\n",
       " 'vessel',\n",
       " 'ontogenically',\n",
       " 'change',\n",
       " 'ptarmigan',\n",
       " 'comparably',\n",
       " 'roll',\n",
       " 'modulo',\n",
       " 'greedy',\n",
       " ...]"
      ]
     },
     "execution_count": 763,
     "metadata": {},
     "output_type": "execute_result"
    }
   ],
   "source": [
    "nbc_corpus"
   ]
  },
  {
   "cell_type": "raw",
   "id": "87171add",
   "metadata": {},
   "source": [
    "# now that we have our corpus we can create a function graph the words that occur in the comment section with the most frequency"
   ]
  },
  {
   "cell_type": "code",
   "execution_count": 764,
   "id": "6080e50f",
   "metadata": {},
   "outputs": [],
   "source": [
    "def plot_top_non_stopwords_barchart(corpus):\n",
    "    #counter function counts all of the words in our corpus\n",
    "    counter=Counter(corpus)\n",
    "    #create a variable to get the words that appear the most\n",
    "    most=counter.most_common()\n",
    "    #now we plot our findings\n",
    "    x, y=[], []\n",
    "    for word,count in most[:20]:\n",
    "            x.append(word)\n",
    "            y.append(count)\n",
    "            \n",
    "    sns.barplot(x=y,y=x)\n",
    "    "
   ]
  },
  {
   "cell_type": "code",
   "execution_count": 765,
   "id": "0a9c76fa",
   "metadata": {},
   "outputs": [
    {
     "data": {
      "image/png": "[encoded data removed]",
      "text/plain": [
       "<Figure size 720x576 with 1 Axes>"
      ]
     },
     "metadata": {
      "needs_background": "light"
     },
     "output_type": "display_data"
    }
   ],
   "source": [
    "plot_top_non_stopwords_barchart(nbc_corpus)\n"
   ]
  },
  {
   "cell_type": "code",
   "execution_count": 766,
   "id": "cb42be60",
   "metadata": {},
   "outputs": [
    {
     "data": {
      "image/png": "[encoded data removed]",
      "text/plain": [
       "<Figure size 720x576 with 1 Axes>"
      ]
     },
     "metadata": {
      "needs_background": "light"
     },
     "output_type": "display_data"
    }
   ],
   "source": [
    "plot_top_non_stopwords_barchart(fox_corpus)\n"
   ]
  },
  {
   "cell_type": "code",
   "execution_count": 767,
   "id": "d5c1b965",
   "metadata": {},
   "outputs": [
    {
     "data": {
      "image/png": "[encoded data removed]",
      "text/plain": [
       "<Figure size 720x576 with 1 Axes>"
      ]
     },
     "metadata": {
      "needs_background": "light"
     },
     "output_type": "display_data"
    }
   ],
   "source": [
    "plot_top_non_stopwords_barchart(cspan_corpus)"
   ]
  },
  {
   "cell_type": "code",
   "execution_count": 768,
   "id": "4a1f74a3",
   "metadata": {},
   "outputs": [],
   "source": [
    "#here we gain some insight. Throughout the all of the comment sections it seems that trumps name dominated bidens. Was this a good thing or a bad thing? "
   ]
  },
  {
   "cell_type": "code",
   "execution_count": 769,
   "id": "1126c3f0",
   "metadata": {},
   "outputs": [],
   "source": [
    "#suppose we want to know more than just singular. Say we want to see phrases. How can we go about doing this?"
   ]
  },
  {
   "cell_type": "code",
   "execution_count": 770,
   "id": "43d05cec",
   "metadata": {},
   "outputs": [],
   "source": [
    "def get_top_ngram(corpus, n=None):\n",
    "    vec = CountVectorizer(ngram_range=(n, n)).fit(corpus)\n",
    "    bag_of_words = vec.transform(corpus)\n",
    "    sum_words = bag_of_words.sum(axis=0) \n",
    "    words_freq = [(word, sum_words[0, idx]) \n",
    "                  for word, idx in vec.vocabulary_.items()]\n",
    "    words_freq =sorted(words_freq, key = lambda x: x[1], reverse=True)\n",
    "    return words_freq[:10]"
   ]
  },
  {
   "cell_type": "code",
   "execution_count": 771,
   "id": "52f1e4c8",
   "metadata": {},
   "outputs": [],
   "source": [
    "def plot_top_ngrams_barchart(text, n=2):\n",
    "    \n",
    "\n",
    "\n",
    "    def _get_top_ngram(corpus, n=None):\n",
    "        vec = CountVectorizer(ngram_range=(n, n)).fit(corpus)\n",
    "        bag_of_words = vec.transform(corpus)\n",
    "        sum_words = bag_of_words.sum(axis=0) \n",
    "        words_freq = [(word, sum_words[0, idx]) \n",
    "                      for word, idx in vec.vocabulary_.items()]\n",
    "        words_freq =sorted(words_freq, key = lambda x: x[1], reverse=True)\n",
    "        return words_freq[:10]\n",
    "\n",
    "    top_n_bigrams=_get_top_ngram(text,n)[:10]\n",
    "    x,y=map(list,zip(*top_n_bigrams))\n",
    "    sns.barplot(x=y,y=x)"
   ]
  },
  {
   "cell_type": "code",
   "execution_count": 772,
   "id": "90c2ab1d",
   "metadata": {},
   "outputs": [
    {
     "data": {
      "image/png": "[encoded data removed]",
      "text/plain": [
       "<Figure size 720x576 with 1 Axes>"
      ]
     },
     "metadata": {
      "needs_background": "light"
     },
     "output_type": "display_data"
    }
   ],
   "source": [
    "plot_top_ngrams_barchart(nbc_corpus, n=2)\n"
   ]
  },
  {
   "cell_type": "code",
   "execution_count": 773,
   "id": "ec7e30e7",
   "metadata": {},
   "outputs": [
    {
     "data": {
      "image/png": "[encoded data removed]",
      "text/plain": [
       "<Figure size 720x576 with 1 Axes>"
      ]
     },
     "metadata": {
      "needs_background": "light"
     },
     "output_type": "display_data"
    }
   ],
   "source": [
    "plot_top_ngrams_barchart(fox_corpus, n=2)\n"
   ]
  },
  {
   "cell_type": "code",
   "execution_count": 774,
   "id": "9623774a",
   "metadata": {},
   "outputs": [
    {
     "data": {
      "image/png": "[encoded data removed]",
      "text/plain": [
       "<Figure size 720x576 with 1 Axes>"
      ]
     },
     "metadata": {
      "needs_background": "light"
     },
     "output_type": "display_data"
    }
   ],
   "source": [
    "plot_top_ngrams_barchart(cspan_corpus, n=2)"
   ]
  },
  {
   "cell_type": "markdown",
   "id": "6ca80d26",
   "metadata": {},
   "source": [
    "Sentiment analysis \n",
    "polarity: is a floating-point number that lies in the range of [-1,1] where 1 means positive statement and -1 means a negative statement.\n",
    "subjectivity: refers to how someone’s judgment is shaped by personal opinions and feelings. Subjectivity is represented as a floating-point value which lies in the range of [0,1]."
   ]
  },
  {
   "cell_type": "markdown",
   "id": "69df058d",
   "metadata": {},
   "source": [
    "The following function plots the polarity of the the comments and gives the scores "
   ]
  },
  {
   "cell_type": "code",
   "execution_count": 728,
   "id": "d3adea87",
   "metadata": {},
   "outputs": [],
   "source": [
    "def plot_polarity_histogram(text):\n",
    "    \n",
    "    def _polarity(text):\n",
    "        return TextBlob(text).sentiment.polarity\n",
    "        \n",
    "    polarity_score =text.apply(lambda x : _polarity(x))\n",
    "    polarity_score.hist()"
   ]
  },
  {
   "cell_type": "code",
   "execution_count": 729,
   "id": "58cad39c",
   "metadata": {},
   "outputs": [
    {
     "data": {
      "image/png": "[encoded data removed]",
      "text/plain": [
       "<Figure size 720x576 with 1 Axes>"
      ]
     },
     "metadata": {
      "needs_background": "light"
     },
     "output_type": "display_data"
    }
   ],
   "source": [
    "plot_polarity_histogram(nbc_data['original_comment'])"
   ]
  },
  {
   "cell_type": "code",
   "execution_count": 730,
   "id": "ec66f5e0",
   "metadata": {},
   "outputs": [
    {
     "data": {
      "image/png": "[encoded data removed]",
      "text/plain": [
       "<Figure size 720x576 with 1 Axes>"
      ]
     },
     "metadata": {
      "needs_background": "light"
     },
     "output_type": "display_data"
    }
   ],
   "source": [
    "plot_polarity_histogram(fox_data['original_comment'])"
   ]
  },
  {
   "cell_type": "code",
   "execution_count": 731,
   "id": "32af702f",
   "metadata": {},
   "outputs": [
    {
     "data": {
      "image/png": "[encoded data removed]",
      "text/plain": [
       "<Figure size 720x576 with 1 Axes>"
      ]
     },
     "metadata": {
      "needs_background": "light"
     },
     "output_type": "display_data"
    }
   ],
   "source": [
    "plot_polarity_histogram(cspan_data['original_comment'])"
   ]
  },
  {
   "cell_type": "markdown",
   "id": "3c4a9b1e",
   "metadata": {},
   "source": [
    "We can take it a step further and see what percentage of each comment section is negative, postive, and neutral"
   ]
  },
  {
   "cell_type": "code",
   "execution_count": 712,
   "id": "8f60cdc4",
   "metadata": {},
   "outputs": [],
   "source": [
    "def sentiment_vader(text, sid):\n",
    "    ss = sid.polarity_scores(text)\n",
    "    ss.pop('compound')\n",
    "    return max(ss, key=ss.get)\n",
    "\n",
    "def sentiment_textblob(text):\n",
    "        x = TextBlob(text).sentiment.polarity\n",
    "        \n",
    "        if x<0:\n",
    "            return 'neg'\n",
    "        elif x==0:\n",
    "            return 'neu'\n",
    "        else:\n",
    "            return 'pos'\n",
    "\n",
    "def plot_sentiment_barchart(text, method='TextBlob'):\n",
    "    if method == 'TextBlob':\n",
    "        sentiment = text.map(lambda x: sentiment_textblob(x))\n",
    "    elif method == 'Vader':\n",
    "        nltk.download('vader_lexicon')\n",
    "        sid = SentimentIntensityAnalyzer()\n",
    "        sentiment = text.map(lambda x: sentiment_vader(x, sid=sid))\n",
    "    else:\n",
    "        raise ValueError('Textblob or Vader')\n",
    "    \n",
    "    plt.bar(sentiment.value_counts().index,\n",
    "            sentiment.value_counts())"
   ]
  },
  {
   "cell_type": "code",
   "execution_count": 732,
   "id": "86965449",
   "metadata": {},
   "outputs": [
    {
     "name": "stderr",
     "output_type": "stream",
     "text": [
      "[nltk_data] Downloading package vader_lexicon to\n",
      "[nltk_data]     C:\\Users\\Ezzard\\AppData\\Roaming\\nltk_data...\n"
     ]
    },
    {
     "data": {
      "image/png": "[encoded data removed]",
      "text/plain": [
       "<Figure size 720x576 with 1 Axes>"
      ]
     },
     "metadata": {
      "needs_background": "light"
     },
     "output_type": "display_data"
    }
   ],
   "source": [
    "plot_sentiment_barchart(nbc_data['original_comment'], method='Vader')"
   ]
  },
  {
   "cell_type": "code",
   "execution_count": 733,
   "id": "10d06830",
   "metadata": {},
   "outputs": [
    {
     "name": "stderr",
     "output_type": "stream",
     "text": [
      "[nltk_data] Downloading package vader_lexicon to\n",
      "[nltk_data]     C:\\Users\\Ezzard\\AppData\\Roaming\\nltk_data...\n",
      "[nltk_data]   Package vader_lexicon is already up-to-date!\n"
     ]
    },
    {
     "data": {
      "image/png": "[encoded data removed]",
      "text/plain": [
       "<Figure size 720x576 with 1 Axes>"
      ]
     },
     "metadata": {
      "needs_background": "light"
     },
     "output_type": "display_data"
    }
   ],
   "source": [
    "plot_sentiment_barchart(fox_data['original_comment'], method='Vader')"
   ]
  },
  {
   "cell_type": "code",
   "execution_count": 734,
   "id": "5f518b8e",
   "metadata": {},
   "outputs": [
    {
     "name": "stderr",
     "output_type": "stream",
     "text": [
      "[nltk_data] Downloading package vader_lexicon to\n",
      "[nltk_data]     C:\\Users\\Ezzard\\AppData\\Roaming\\nltk_data...\n",
      "[nltk_data]   Package vader_lexicon is already up-to-date!\n"
     ]
    },
    {
     "data": {
      "image/png": "[encoded data removed]",
      "text/plain": [
       "<Figure size 720x576 with 1 Axes>"
      ]
     },
     "metadata": {
      "needs_background": "light"
     },
     "output_type": "display_data"
    }
   ],
   "source": [
    "plot_sentiment_barchart(cspan_data['original_comment'], method='Vader')"
   ]
  },
  {
   "cell_type": "markdown",
   "id": "ea9898b6",
   "metadata": {},
   "source": [
    "Now let's examine what comments are considered positive, negative, and neutral for each comment section"
   ]
  },
  {
   "cell_type": "code",
   "execution_count": 744,
   "id": "5d7e6562",
   "metadata": {},
   "outputs": [],
   "source": [
    "nbc_data['polarity'] = nbc_data['original_comment'].apply(sentiment_textblob)\n",
    "fox_data['polarity'] = nbc_data['original_comment'].apply(sentiment_textblob)\n",
    "cspan_data['polarity'] = nbc_data['original_comment'].apply(sentiment_textblob)"
   ]
  },
  {
   "cell_type": "code",
   "execution_count": 745,
   "id": "a89f24eb",
   "metadata": {},
   "outputs": [
    {
     "data": {
      "text/plain": [
       "8     1:24:58 he’s narcissistic conceited, thought c...\n",
       "14    trump nazi trying hitler let side talk like tr...\n",
       "18                                           fantastic.\n",
       "19                                              superb.\n",
       "21    trump 2020!we love forever!he great president ...\n",
       "Name: original_comment, dtype: object"
      ]
     },
     "execution_count": 745,
     "metadata": {},
     "output_type": "execute_result"
    }
   ],
   "source": [
    "nbc_data[nbc_data['polarity']=='pos']['original_comment'].head()\n"
   ]
  },
  {
   "cell_type": "code",
   "execution_count": 746,
   "id": "a75a80d8",
   "metadata": {},
   "outputs": [
    {
     "data": {
      "text/plain": [
       "3                                    need mad bodyguard\n",
       "6                            hahah ridiculous omg lies!\n",
       "13    alcoholic laura jekely transport blouse clinic...\n",
       "15    propose republican taken socialist medical sys...\n",
       "16                        reporting awful manipulative.\n",
       "Name: original_comment, dtype: object"
      ]
     },
     "execution_count": 746,
     "metadata": {},
     "output_type": "execute_result"
    }
   ],
   "source": [
    "nbc_data[nbc_data['polarity']=='neg']['original_comment'].head()\n"
   ]
  },
  {
   "cell_type": "code",
   "execution_count": 747,
   "id": "47ea2392",
   "metadata": {},
   "outputs": [
    {
     "data": {
      "text/plain": [
       "0      trump remembered one term loser impeached twice\n",
       "1                                   who's inauguration\n",
       "2               2:9:00 trump condemn white supremacist\n",
       "4    country cave self go inner city send kamalah s...\n",
       "5                    don’t let joe biden go inner city\n",
       "Name: original_comment, dtype: object"
      ]
     },
     "execution_count": 747,
     "metadata": {},
     "output_type": "execute_result"
    }
   ],
   "source": [
    "nbc_data[nbc_data['polarity']=='neu']['original_comment'].head()\n"
   ]
  },
  {
   "cell_type": "code",
   "execution_count": 748,
   "id": "36f0687b",
   "metadata": {},
   "outputs": [
    {
     "data": {
      "text/plain": [
       "3                                               25:02 😂\n",
       "6             17:18 \"that really productive segment it\"\n",
       "13                           trump even show win debate\n",
       "15    i'm give testimony dr brow help bring husband ...\n",
       "16               chris wallace hypocrite liar fake news\n",
       "Name: original_comment, dtype: object"
      ]
     },
     "execution_count": 748,
     "metadata": {},
     "output_type": "execute_result"
    }
   ],
   "source": [
    "fox_data[fox_data['polarity']=='neg']['original_comment'].head()\n"
   ]
  },
  {
   "cell_type": "code",
   "execution_count": 749,
   "id": "eaef98ed",
   "metadata": {},
   "outputs": [
    {
     "data": {
      "text/plain": [
       "8     1:34:40 hour hahalf wanna thank both, particip...\n",
       "14                   like part debating, thanks showing\n",
       "18    going forward, here's predictable, idiotic use...\n",
       "19           whoever win always remember biden cheater.\n",
       "21    unsubscribed fox news. chris wallace owner rui...\n",
       "Name: original_comment, dtype: object"
      ]
     },
     "execution_count": 749,
     "metadata": {},
     "output_type": "execute_result"
    }
   ],
   "source": [
    "fox_data[fox_data['polarity']=='pos']['original_comment'].head()\n"
   ]
  },
  {
   "cell_type": "code",
   "execution_count": 750,
   "id": "a8cb08b9",
   "metadata": {},
   "outputs": [
    {
     "data": {
      "text/plain": [
       "0                         12:45 funny, next president?\n",
       "1                                         biden commie\n",
       "2    liberal neither biden trump good sounded like ...\n",
       "4    44:24 biden: \"one day came burped behind me, b...\n",
       "5    sadly, debate hurt trump bad election rude int...\n",
       "Name: original_comment, dtype: object"
      ]
     },
     "execution_count": 750,
     "metadata": {},
     "output_type": "execute_result"
    }
   ],
   "source": [
    "fox_data[fox_data['polarity']=='neu']['original_comment'].head()\n"
   ]
  },
  {
   "cell_type": "code",
   "execution_count": 751,
   "id": "c4a0accc",
   "metadata": {},
   "outputs": [
    {
     "data": {
      "text/plain": [
       "8                             need nikocado avacado run\n",
       "14    trump dust bin history. american know piece tr...\n",
       "18    im watching jan 19th! lololol riden biden brau!!!\n",
       "19                                        47:24 *wrong*\n",
       "21                                             shut up!\n",
       "Name: original_comment, dtype: object"
      ]
     },
     "execution_count": 751,
     "metadata": {},
     "output_type": "execute_result"
    }
   ],
   "source": [
    "cspan_data[cspan_data['polarity']=='pos']['original_comment'].head()\n"
   ]
  },
  {
   "cell_type": "code",
   "execution_count": 752,
   "id": "dd150951",
   "metadata": {},
   "outputs": [
    {
     "data": {
      "text/plain": [
       "3                 **watching biden's swearing in!❤️❤️**\n",
       "6                                                 22:23\n",
       "13    34:55 wallace gave direction \"open discussion\"...\n",
       "15    yeah. inauguration day toast trump getting evi...\n",
       "16    i'm watching kind late, noticed trump keep int...\n",
       "Name: original_comment, dtype: object"
      ]
     },
     "execution_count": 752,
     "metadata": {},
     "output_type": "execute_result"
    }
   ],
   "source": [
    "cspan_data[cspan_data['polarity']=='neg']['original_comment'].head()\n"
   ]
  },
  {
   "cell_type": "code",
   "execution_count": 753,
   "id": "74e5dfb6",
   "metadata": {},
   "outputs": [
    {
     "data": {
      "text/plain": [
       "0    let serve record history world see disgrace do...\n",
       "1    wow. crazy watch, without worrying trump still...\n",
       "2    look yellow think liver disease eating much ju...\n",
       "4                                      heeeeeeeck yeah\n",
       "5                                       would shut man\n",
       "Name: original_comment, dtype: object"
      ]
     },
     "execution_count": 753,
     "metadata": {},
     "output_type": "execute_result"
    }
   ],
   "source": [
    "cspan_data[cspan_data['polarity']=='neu']['original_comment'].head()\n"
   ]
  }
 ],
 "metadata": {
  "kernelspec": {
   "display_name": "Python 3 (ipykernel)",
   "language": "python",
   "name": "python3"
  },
  "language_info": {
   "codemirror_mode": {
    "name": "ipython",
    "version": 3
   },
   "file_extension": ".py",
   "mimetype": "text/x-python",
   "name": "python",
   "nbconvert_exporter": "python",
   "pygments_lexer": "ipython3",
   "version": "3.10.0"
  }
 },
 "nbformat": 4,
 "nbformat_minor": 5
}
